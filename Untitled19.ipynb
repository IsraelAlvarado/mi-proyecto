{
  "nbformat": 4,
  "nbformat_minor": 0,
  "metadata": {
    "colab": {
      "provenance": [],
      "include_colab_link": true
    },
    "kernelspec": {
      "name": "python3",
      "display_name": "Python 3"
    },
    "language_info": {
      "name": "python"
    }
  },
  "cells": [
    {
      "cell_type": "markdown",
      "metadata": {
        "id": "view-in-github",
        "colab_type": "text"
      },
      "source": [
        "<a href=\"https://colab.research.google.com/github/IsraelAlvarado/mi-proyecto/blob/app/Untitled19.ipynb\" target=\"_parent\"><img src=\"https://colab.research.google.com/assets/colab-badge.svg\" alt=\"Open In Colab\"/></a>"
      ]
    },
    {
      "cell_type": "code",
      "execution_count": null,
      "metadata": {
        "colab": {
          "base_uri": "https://localhost:8080/"
        },
        "id": "S3re5fPIqEQF",
        "outputId": "19b96f9d-cec9-4467-ae5a-f1f867ffacf5"
      },
      "outputs": [
        {
          "output_type": "stream",
          "name": "stdout",
          "text": [
            "Collecting bibtexparser\n",
            "  Downloading bibtexparser-1.4.1.tar.gz (55 kB)\n",
            "\u001b[2K     \u001b[90m━━━━━━━━━━━━━━━━━━━━━━━━━━━━━━━━━━━━━━━━\u001b[0m \u001b[32m55.1/55.1 kB\u001b[0m \u001b[31m1.8 MB/s\u001b[0m eta \u001b[36m0:00:00\u001b[0m\n",
            "\u001b[?25h  Preparing metadata (setup.py) ... \u001b[?25l\u001b[?25hdone\n",
            "Requirement already satisfied: pyparsing>=2.0.3 in /usr/local/lib/python3.10/dist-packages (from bibtexparser) (3.1.2)\n",
            "Building wheels for collected packages: bibtexparser\n",
            "  Building wheel for bibtexparser (setup.py) ... \u001b[?25l\u001b[?25hdone\n",
            "  Created wheel for bibtexparser: filename=bibtexparser-1.4.1-py3-none-any.whl size=43252 sha256=105d165cfeb888fac939ead99c072626f27dffd151ecd7e4a48bd48522e8d05a\n",
            "  Stored in directory: /root/.cache/pip/wheels/08/c6/c3/56e639fab68d1fdbf13ea147636d9795ccdbd3c1d3178d1332\n",
            "Successfully built bibtexparser\n",
            "Installing collected packages: bibtexparser\n",
            "Successfully installed bibtexparser-1.4.1\n"
          ]
        }
      ],
      "source": [
        "!pip install bibtexparser"
      ]
    },
    {
      "cell_type": "markdown",
      "source": [
        "#**Cargar los datos de ScienceDiret**"
      ],
      "metadata": {
        "id": "YJ1nQs2lx-RT"
      }
    },
    {
      "cell_type": "markdown",
      "source": [
        "717 articulos usados para este analisis"
      ],
      "metadata": {
        "id": "77N7xy-KyX5q"
      }
    },
    {
      "cell_type": "code",
      "source": [
        "import bibtexparser\n",
        "import pandas as pd"
      ],
      "metadata": {
        "id": "A1zE9H6GqOWp"
      },
      "execution_count": null,
      "outputs": []
    },
    {
      "cell_type": "markdown",
      "source": [
        "Convertir los datos bip a csv"
      ],
      "metadata": {
        "id": "q0_TckawyOxC"
      }
    },
    {
      "cell_type": "code",
      "source": [
        "with open(\"/content/ScienceDirect_citations_1722476593820.bib\") as bibtex_file:\n",
        "    bib_database = bibtexparser.load(bibtex_file)\n",
        "\n",
        "df = pd.DataFrame(bib_database.entries)\n",
        "selection = df[['doi', 'number','title','keywords','abstract','year']]\n",
        "selection.to_csv('/content/ScienceDirect_citations_1722476593820.bib.csv', index=False)"
      ],
      "metadata": {
        "id": "rxycPgNsqRyi"
      },
      "execution_count": null,
      "outputs": []
    },
    {
      "cell_type": "markdown",
      "source": [
        "#**Cargar los datos de Scopus**"
      ],
      "metadata": {
        "id": "OsxUYnBsyTi5"
      }
    },
    {
      "cell_type": "markdown",
      "source": [
        "313 documentos utilizados para este analisis"
      ],
      "metadata": {
        "id": "RcKFWBPyyinZ"
      }
    },
    {
      "cell_type": "code",
      "source": [
        "# Lee el archivo XLS\n",
        "df2 = pd.read_excel('/content/313-source-results.xlsx')\n",
        "\n",
        "# Guarda los datos en formato CSV\n",
        "df2.to_csv('/content/313-source-results.xlsx.csv', index=False)\n"
      ],
      "metadata": {
        "colab": {
          "base_uri": "https://localhost:8080/"
        },
        "id": "XhtCJzVBrLwc",
        "outputId": "9a1d0271-fc7e-4044-dcc8-3c53ac9f0de2"
      },
      "execution_count": null,
      "outputs": [
        {
          "output_type": "stream",
          "name": "stderr",
          "text": [
            "/usr/local/lib/python3.10/dist-packages/openpyxl/styles/stylesheet.py:237: UserWarning: Workbook contains no default style, apply openpyxl's default\n",
            "  warn(\"Workbook contains no default style, apply openpyxl's default\")\n"
          ]
        }
      ]
    },
    {
      "cell_type": "code",
      "source": [
        "df.columns"
      ],
      "metadata": {
        "colab": {
          "base_uri": "https://localhost:8080/"
        },
        "id": "230LMxvRwXnG",
        "outputId": "4b80a70c-aa74-4156-cb4a-033ce976e8a4"
      },
      "execution_count": null,
      "outputs": [
        {
          "output_type": "execute_result",
          "data": {
            "text/plain": [
              "Index(['author', 'url', 'doi', 'issn', 'year', 'pages', 'volume', 'journal',\n",
              "       'title', 'ENTRYTYPE', 'ID', 'abstract', 'keywords', 'note', 'number'],\n",
              "      dtype='object')"
            ]
          },
          "metadata": {},
          "execution_count": 95
        }
      ]
    },
    {
      "cell_type": "code",
      "source": [
        "df2.columns"
      ],
      "metadata": {
        "colab": {
          "base_uri": "https://localhost:8080/"
        },
        "id": "OQFRodJtwciF",
        "outputId": "18d18bbc-e56c-435b-fa80-5b15237f44e0"
      },
      "execution_count": null,
      "outputs": [
        {
          "output_type": "execute_result",
          "data": {
            "text/plain": [
              "Index(['Source title', 'CiteScore', 'Highest percentile', '2020-23 Citations',\n",
              "       '2020-23 Documents', '% Cited', 'SNIP', 'SJR', 'Publisher'],\n",
              "      dtype='object')"
            ]
          },
          "metadata": {},
          "execution_count": 96
        }
      ]
    },
    {
      "cell_type": "markdown",
      "source": [
        "**Unificación de datos**"
      ],
      "metadata": {
        "id": "3m6Un3W-yr2x"
      }
    },
    {
      "cell_type": "code",
      "source": [
        "import pandas as pd\n",
        "#Unificación a travez de la función concat\n",
        "result = pd.concat([df, df2], axis=0, ignore_index=True)\n",
        "print(result)\n"
      ],
      "metadata": {
        "colab": {
          "base_uri": "https://localhost:8080/"
        },
        "id": "_4EgE9-zt3Fm",
        "outputId": "f6b8aac5-f33c-4393-e30b-65396e220b6a"
      },
      "execution_count": null,
      "outputs": [
        {
          "output_type": "stream",
          "name": "stdout",
          "text": [
            "                                                author  \\\n",
            "0                                  Geoffrey DeVerteuil   \n",
            "1       Abbas {Ziafati Bafarasat} and Eduardo Oliveira   \n",
            "2               Fang Zhao and Jiayi Xu and Guanfu Fang   \n",
            "3                                Vanesa {Castán Broto}   \n",
            "4    Yuanyuan Gu and Xiaoxue Zhou and Qiao Wang and...   \n",
            "..                                                 ...   \n",
            "333                                                NaN   \n",
            "334                                                NaN   \n",
            "335                                                NaN   \n",
            "336                                                NaN   \n",
            "337                                                NaN   \n",
            "\n",
            "                                                   url  \\\n",
            "0    https://www.sciencedirect.com/science/article/...   \n",
            "1    https://www.sciencedirect.com/science/article/...   \n",
            "2    https://www.sciencedirect.com/science/article/...   \n",
            "3    https://www.sciencedirect.com/science/article/...   \n",
            "4    https://www.sciencedirect.com/science/article/...   \n",
            "..                                                 ...   \n",
            "333                                                NaN   \n",
            "334                                                NaN   \n",
            "335                                                NaN   \n",
            "336                                                NaN   \n",
            "337                                                NaN   \n",
            "\n",
            "                                                doi       issn  year   pages  \\\n",
            "0    https://doi.org/10.1016/j.geoforum.2015.11.016  0016-7185  2016   69-72   \n",
            "1    https://doi.org/10.1016/j.geoforum.2023.103726  0016-7185  2023  103726   \n",
            "2      https://doi.org/10.1016/j.asieco.2021.101420  1049-0078  2022  101420   \n",
            "3    https://doi.org/10.1016/j.worlddev.2016.12.031  0305-750X  2017    1-15   \n",
            "4      https://doi.org/10.1016/j.asieco.2024.101785  1049-0078  2024  101785   \n",
            "..                                              ...        ...   ...     ...   \n",
            "333                                             NaN        NaN   NaN     NaN   \n",
            "334                                             NaN        NaN   NaN     NaN   \n",
            "335                                             NaN        NaN   NaN     NaN   \n",
            "336                                             NaN        NaN   NaN     NaN   \n",
            "337                                             NaN        NaN   NaN     NaN   \n",
            "\n",
            "    volume                     journal  \\\n",
            "0       68                    Geoforum   \n",
            "1      141                    Geoforum   \n",
            "2       78  Journal of Asian Economics   \n",
            "3       93           World Development   \n",
            "4       94  Journal of Asian Economics   \n",
            "..     ...                         ...   \n",
            "333    NaN                         NaN   \n",
            "334    NaN                         NaN   \n",
            "335    NaN                         NaN   \n",
            "336    NaN                         NaN   \n",
            "337    NaN                         NaN   \n",
            "\n",
            "                                                 title ENTRYTYPE  ... number  \\\n",
            "0    Pace and place: Resilience in an age of urban ...   article  ...    NaN   \n",
            "1    Social sustainability: Do-it-yourself urbanism...   article  ...    NaN   \n",
            "2    The heterogeneous effects of employment-based ...   article  ...    NaN   \n",
            "3    Urban Governance and the Politics of Climate c...   article  ...    NaN   \n",
            "4    Urban form deterioration and productivity in C...   article  ...    NaN   \n",
            "..                                                 ...       ...  ...    ...   \n",
            "333                                                NaN       NaN  ...    NaN   \n",
            "334                                                NaN       NaN  ...    NaN   \n",
            "335                                                NaN       NaN  ...    NaN   \n",
            "336                                                NaN       NaN  ...    NaN   \n",
            "337                                                NaN       NaN  ...    NaN   \n",
            "\n",
            "                                          Source title CiteScore  \\\n",
            "0                                                  NaN       NaN   \n",
            "1                                                  NaN       NaN   \n",
            "2                                                  NaN       NaN   \n",
            "3                                                  NaN       NaN   \n",
            "4                                                  NaN       NaN   \n",
            "..                                                 ...       ...   \n",
            "333                                  Stadsgeschiedenis       NaN   \n",
            "334                     Town Planning and Architecture       NaN   \n",
            "335  Urban Anthropology and Studies of Cultural Sys...       NaN   \n",
            "336                                     Urban Habitats       NaN   \n",
            "337                                       Urban Lawyer       NaN   \n",
            "\n",
            "    Highest percentile 2020-23 Citations 2020-23 Documents  % Cited SNIP  SJR  \\\n",
            "0                  NaN               NaN               NaN      NaN  NaN  NaN   \n",
            "1                  NaN               NaN               NaN      NaN  NaN  NaN   \n",
            "2                  NaN               NaN               NaN      NaN  NaN  NaN   \n",
            "3                  NaN               NaN               NaN      NaN  NaN  NaN   \n",
            "4                  NaN               NaN               NaN      NaN  NaN  NaN   \n",
            "..                 ...               ...               ...      ...  ...  ...   \n",
            "333                NaN               NaN               NaN      NaN  NaN  NaN   \n",
            "334                NaN               NaN               NaN      NaN  NaN  NaN   \n",
            "335                NaN               NaN               NaN      NaN  NaN  NaN   \n",
            "336                NaN               NaN               NaN      NaN  NaN  NaN   \n",
            "337                NaN               NaN               NaN      NaN  NaN  NaN   \n",
            "\n",
            "                                  Publisher  \n",
            "0                                       NaN  \n",
            "1                                       NaN  \n",
            "2                                       NaN  \n",
            "3                                       NaN  \n",
            "4                                       NaN  \n",
            "..                                      ...  \n",
            "333                 Leuven University Press  \n",
            "334  Vilnius Gediminas Technical University  \n",
            "335    Institute for the Study of Man, Inc.  \n",
            "336    Center for Urban Restoration Ecology  \n",
            "337                American Bar Association  \n",
            "\n",
            "[338 rows x 24 columns]\n"
          ]
        }
      ]
    },
    {
      "cell_type": "code",
      "source": [
        "result.columns"
      ],
      "metadata": {
        "colab": {
          "base_uri": "https://localhost:8080/"
        },
        "id": "EyaU2C5kzOMI",
        "outputId": "3ed3a8ae-e11d-4539-d545-c40ec234d425"
      },
      "execution_count": null,
      "outputs": [
        {
          "output_type": "execute_result",
          "data": {
            "text/plain": [
              "Index(['author', 'url', 'doi', 'issn', 'year', 'pages', 'volume', 'journal',\n",
              "       'title', 'ENTRYTYPE', 'ID', 'abstract', 'keywords', 'note', 'number',\n",
              "       'Source title', 'CiteScore', 'Highest percentile', '2020-23 Citations',\n",
              "       '2020-23 Documents', '% Cited', 'SNIP', 'SJR', 'Publisher'],\n",
              "      dtype='object')"
            ]
          },
          "metadata": {},
          "execution_count": 98
        }
      ]
    },
    {
      "cell_type": "code",
      "source": [
        "result.dtypes"
      ],
      "metadata": {
        "colab": {
          "base_uri": "https://localhost:8080/",
          "height": 837
        },
        "id": "OEHbm3bOzUdX",
        "outputId": "0f1a4773-54d1-4f5d-fbf5-2183a953b051"
      },
      "execution_count": null,
      "outputs": [
        {
          "output_type": "execute_result",
          "data": {
            "text/plain": [
              "author                 object\n",
              "url                    object\n",
              "doi                    object\n",
              "issn                   object\n",
              "year                   object\n",
              "pages                  object\n",
              "volume                 object\n",
              "journal                object\n",
              "title                  object\n",
              "ENTRYTYPE              object\n",
              "ID                     object\n",
              "abstract               object\n",
              "keywords               object\n",
              "note                   object\n",
              "number                 object\n",
              "Source title           object\n",
              "CiteScore             float64\n",
              "Highest percentile     object\n",
              "2020-23 Citations     float64\n",
              "2020-23 Documents     float64\n",
              "% Cited               float64\n",
              "SNIP                  float64\n",
              "SJR                   float64\n",
              "Publisher              object\n",
              "dtype: object"
            ],
            "text/html": [
              "<table border=\"1\" class=\"dataframe\">\n",
              "  <thead>\n",
              "    <tr style=\"text-align: right;\">\n",
              "      <th></th>\n",
              "      <th>0</th>\n",
              "    </tr>\n",
              "  </thead>\n",
              "  <tbody>\n",
              "    <tr>\n",
              "      <th>author</th>\n",
              "      <td>object</td>\n",
              "    </tr>\n",
              "    <tr>\n",
              "      <th>url</th>\n",
              "      <td>object</td>\n",
              "    </tr>\n",
              "    <tr>\n",
              "      <th>doi</th>\n",
              "      <td>object</td>\n",
              "    </tr>\n",
              "    <tr>\n",
              "      <th>issn</th>\n",
              "      <td>object</td>\n",
              "    </tr>\n",
              "    <tr>\n",
              "      <th>year</th>\n",
              "      <td>object</td>\n",
              "    </tr>\n",
              "    <tr>\n",
              "      <th>pages</th>\n",
              "      <td>object</td>\n",
              "    </tr>\n",
              "    <tr>\n",
              "      <th>volume</th>\n",
              "      <td>object</td>\n",
              "    </tr>\n",
              "    <tr>\n",
              "      <th>journal</th>\n",
              "      <td>object</td>\n",
              "    </tr>\n",
              "    <tr>\n",
              "      <th>title</th>\n",
              "      <td>object</td>\n",
              "    </tr>\n",
              "    <tr>\n",
              "      <th>ENTRYTYPE</th>\n",
              "      <td>object</td>\n",
              "    </tr>\n",
              "    <tr>\n",
              "      <th>ID</th>\n",
              "      <td>object</td>\n",
              "    </tr>\n",
              "    <tr>\n",
              "      <th>abstract</th>\n",
              "      <td>object</td>\n",
              "    </tr>\n",
              "    <tr>\n",
              "      <th>keywords</th>\n",
              "      <td>object</td>\n",
              "    </tr>\n",
              "    <tr>\n",
              "      <th>note</th>\n",
              "      <td>object</td>\n",
              "    </tr>\n",
              "    <tr>\n",
              "      <th>number</th>\n",
              "      <td>object</td>\n",
              "    </tr>\n",
              "    <tr>\n",
              "      <th>Source title</th>\n",
              "      <td>object</td>\n",
              "    </tr>\n",
              "    <tr>\n",
              "      <th>CiteScore</th>\n",
              "      <td>float64</td>\n",
              "    </tr>\n",
              "    <tr>\n",
              "      <th>Highest percentile</th>\n",
              "      <td>object</td>\n",
              "    </tr>\n",
              "    <tr>\n",
              "      <th>2020-23 Citations</th>\n",
              "      <td>float64</td>\n",
              "    </tr>\n",
              "    <tr>\n",
              "      <th>2020-23 Documents</th>\n",
              "      <td>float64</td>\n",
              "    </tr>\n",
              "    <tr>\n",
              "      <th>% Cited</th>\n",
              "      <td>float64</td>\n",
              "    </tr>\n",
              "    <tr>\n",
              "      <th>SNIP</th>\n",
              "      <td>float64</td>\n",
              "    </tr>\n",
              "    <tr>\n",
              "      <th>SJR</th>\n",
              "      <td>float64</td>\n",
              "    </tr>\n",
              "    <tr>\n",
              "      <th>Publisher</th>\n",
              "      <td>object</td>\n",
              "    </tr>\n",
              "  </tbody>\n",
              "</table><br><label><b>dtype:</b> object</label>"
            ]
          },
          "metadata": {},
          "execution_count": 99
        }
      ]
    },
    {
      "cell_type": "markdown",
      "source": [
        "#**Crear el corpus**"
      ],
      "metadata": {
        "id": "uZ4I5Xp5y7tY"
      }
    },
    {
      "cell_type": "code",
      "source": [
        "import pandas as pd\n",
        "\n",
        "# Supongamos que df es tu DataFrame unido\n",
        "corpus = df['title']  # Reemplaza 'columna_texto' con la columna que contiene el texto\n"
      ],
      "metadata": {
        "id": "Sf20NtqGy5pu"
      },
      "execution_count": null,
      "outputs": []
    },
    {
      "cell_type": "markdown",
      "source": [
        "#**Análisis exploratorio**"
      ],
      "metadata": {
        "id": "r_mAE2HV0z3s"
      }
    },
    {
      "cell_type": "code",
      "source": [
        "import pandas as pd\n",
        "import seaborn as sns\n",
        "import matplotlib.pyplot as plt\n",
        "\n",
        "# Información general del DataFrame\n",
        "print(result.info())\n",
        "\n",
        "# Estadísticas descriptivas\n",
        "print(result.describe())\n",
        "\n",
        "# Verificar valores nulos\n",
        "print(result.isnull().sum())\n",
        "\n",
        "# Distribución de valores únicos en una columna\n",
        "print(result['Source title'].value_counts())\n",
        "\n",
        "# Visualizaciones (usando seaborn o matplotlib)\n",
        "\n",
        "# Histograma\n",
        "sns.histplot(result['2020-23 Citations'])\n",
        "plt.show()\n",
        "\n",
        "# Gráfico de caja\n",
        "sns.boxplot(x='Source title', y='2020-23 Citations', data=result)\n",
        "plt.show()\n"
      ],
      "metadata": {
        "colab": {
          "base_uri": "https://localhost:8080/",
          "height": 1000
        },
        "id": "UsGl30Vf0e9l",
        "outputId": "2dc2dd60-fd0f-44af-cde6-025594c858d4"
      },
      "execution_count": null,
      "outputs": [
        {
          "output_type": "stream",
          "name": "stdout",
          "text": [
            "<class 'pandas.core.frame.DataFrame'>\n",
            "RangeIndex: 338 entries, 0 to 337\n",
            "Data columns (total 24 columns):\n",
            " #   Column              Non-Null Count  Dtype  \n",
            "---  ------              --------------  -----  \n",
            " 0   author              25 non-null     object \n",
            " 1   url                 25 non-null     object \n",
            " 2   doi                 25 non-null     object \n",
            " 3   issn                25 non-null     object \n",
            " 4   year                25 non-null     object \n",
            " 5   pages               25 non-null     object \n",
            " 6   volume              25 non-null     object \n",
            " 7   journal             25 non-null     object \n",
            " 8   title               25 non-null     object \n",
            " 9   ENTRYTYPE           25 non-null     object \n",
            " 10  ID                  25 non-null     object \n",
            " 11  abstract            24 non-null     object \n",
            " 12  keywords            24 non-null     object \n",
            " 13  note                1 non-null      object \n",
            " 14  number              1 non-null      object \n",
            " 15  Source title        313 non-null    object \n",
            " 16  CiteScore           279 non-null    float64\n",
            " 17  Highest percentile  279 non-null    object \n",
            " 18  2020-23 Citations   279 non-null    float64\n",
            " 19  2020-23 Documents   279 non-null    float64\n",
            " 20  % Cited             279 non-null    float64\n",
            " 21  SNIP                268 non-null    float64\n",
            " 22  SJR                 265 non-null    float64\n",
            " 23  Publisher           310 non-null    object \n",
            "dtypes: float64(6), object(18)\n",
            "memory usage: 63.5+ KB\n",
            "None\n",
            "        CiteScore  2020-23 Citations  2020-23 Documents     % Cited  \\\n",
            "count  279.000000         279.000000         279.000000  279.000000   \n",
            "mean     2.643369         729.451613         164.369176   48.508961   \n",
            "std      3.688581        2282.507692         201.449219   25.402071   \n",
            "min      0.000000           0.000000           5.000000    0.000000   \n",
            "25%      0.500000          37.000000          65.000000   27.000000   \n",
            "50%      1.400000         162.000000         105.000000   46.000000   \n",
            "75%      3.650000         502.500000         173.000000   72.500000   \n",
            "max     41.900000       23104.000000        1783.000000  100.000000   \n",
            "\n",
            "             SNIP         SJR  \n",
            "count  268.000000  265.000000  \n",
            "mean     0.725970    0.454592  \n",
            "std      0.620067    0.632017  \n",
            "min      0.000000    0.100000  \n",
            "25%      0.284750    0.145000  \n",
            "50%      0.617000    0.270000  \n",
            "75%      1.018500    0.532000  \n",
            "max      5.329000    7.366000  \n",
            "author                313\n",
            "url                   313\n",
            "doi                   313\n",
            "issn                  313\n",
            "year                  313\n",
            "pages                 313\n",
            "volume                313\n",
            "journal               313\n",
            "title                 313\n",
            "ENTRYTYPE             313\n",
            "ID                    313\n",
            "abstract              314\n",
            "keywords              314\n",
            "note                  337\n",
            "number                337\n",
            "Source title           25\n",
            "CiteScore              59\n",
            "Highest percentile     59\n",
            "2020-23 Citations      59\n",
            "2020-23 Documents      59\n",
            "% Cited                59\n",
            "SNIP                   70\n",
            "SJR                    73\n",
            "Publisher              28\n",
            "dtype: int64\n",
            "Source title\n",
            "Nature Sustainability                            1\n",
            "Geocarrefour                                     1\n",
            "AUS                                              1\n",
            "Archivio Antropologico Mediterraneo              1\n",
            "Springer Tracts on Transportation and Traffic    1\n",
            "                                                ..\n",
            "Letters in Spatial and Resource Sciences         1\n",
            "Housing and Society                              1\n",
            "City and Society                                 1\n",
            "Bioarchaeology and Social Theory                 1\n",
            "Urban Lawyer                                     1\n",
            "Name: count, Length: 313, dtype: int64\n"
          ]
        },
        {
          "output_type": "display_data",
          "data": {
            "text/plain": [
              "<Figure size 640x480 with 1 Axes>"
            ],
            "image/png": "[encoded data removed]"
          },
          "metadata": {}
        },
        {
          "output_type": "display_data",
          "data": {
            "text/plain": [
              "<Figure size 640x480 with 1 Axes>"
            ],
            "image/png": "[encoded data removed]"
          },
          "metadata": {}
        }
      ]
    },
    {
      "cell_type": "markdown",
      "source": [
        "#**Limpieza de datos**"
      ],
      "metadata": {
        "id": "PagDU2FS8yQ8"
      }
    },
    {
      "cell_type": "code",
      "source": [
        "import pandas as pd\n",
        "import numpy as np\n",
        "\n",
        "# Reemplazar NaN en columnas categóricas con una cadena vacía\n",
        "cat_columns = ['author', 'url', 'doi', 'issn', 'year', 'pages', 'volume', 'journal', 'title', 'ENTRYTYPE', 'ID', 'abstract', 'keywords', 'note', 'number', 'Source title', 'Highest percentile', 'Publisher']\n",
        "result[cat_columns] = result[cat_columns].fillna('')\n",
        "\n",
        "# Reemplazar NaN en columnas numéricas con la media o mediana\n",
        "num_columns = ['CiteScore', '2020-23 Citations', '2020-23 Documents', '% Cited', 'SNIP', 'SJR']\n",
        "result[num_columns] = result[num_columns].fillna(result[num_columns].mean())\n"
      ],
      "metadata": {
        "id": "GpSaCxQg6990"
      },
      "execution_count": null,
      "outputs": []
    },
    {
      "cell_type": "code",
      "source": [
        "# Eliminar columnas con más del 50% de valores NaN\n",
        "result_clean = result.dropna(axis=1, thresh=len(result) * 0.5)\n",
        "\n",
        "# Eliminar filas con valores NaN en columnas numéricas específicas\n",
        "result_clean = result.dropna(subset=num_columns)\n"
      ],
      "metadata": {
        "id": "ACzn63fO84LM"
      },
      "execution_count": null,
      "outputs": []
    },
    {
      "cell_type": "code",
      "source": [
        "result_clean.tail(5)"
      ],
      "metadata": {
        "colab": {
          "base_uri": "https://localhost:8080/",
          "height": 499
        },
        "id": "xJplVdAJ88bV",
        "outputId": "14a6601b-1a86-4273-ce22-7a2f7ceb767c"
      },
      "execution_count": null,
      "outputs": [
        {
          "output_type": "execute_result",
          "data": {
            "text/plain": [
              "    author url doi issn year pages volume journal title ENTRYTYPE  ... number  \\\n",
              "333                                                                ...          \n",
              "334                                                                ...          \n",
              "335                                                                ...          \n",
              "336                                                                ...          \n",
              "337                                                                ...          \n",
              "\n",
              "                                          Source title CiteScore  \\\n",
              "333                                  Stadsgeschiedenis  2.643369   \n",
              "334                     Town Planning and Architecture  2.643369   \n",
              "335  Urban Anthropology and Studies of Cultural Sys...  2.643369   \n",
              "336                                     Urban Habitats  2.643369   \n",
              "337                                       Urban Lawyer  2.643369   \n",
              "\n",
              "    Highest percentile 2020-23 Citations 2020-23 Documents    % Cited  \\\n",
              "333                           729.451613        164.369176  48.508961   \n",
              "334                           729.451613        164.369176  48.508961   \n",
              "335                           729.451613        164.369176  48.508961   \n",
              "336                           729.451613        164.369176  48.508961   \n",
              "337                           729.451613        164.369176  48.508961   \n",
              "\n",
              "        SNIP       SJR                               Publisher  \n",
              "333  0.72597  0.454592                 Leuven University Press  \n",
              "334  0.72597  0.454592  Vilnius Gediminas Technical University  \n",
              "335  0.72597  0.454592    Institute for the Study of Man, Inc.  \n",
              "336  0.72597  0.454592    Center for Urban Restoration Ecology  \n",
              "337  0.72597  0.454592                American Bar Association  \n",
              "\n",
              "[5 rows x 24 columns]"
            ],
            "text/html": [
              "\n",
              "  <div id=\"df-9f237942-8977-4476-84bc-ada1e02afe79\" class=\"colab-df-container\">\n",
              "    <div>\n",
              "<style scoped>\n",
              "    .dataframe tbody tr th:only-of-type {\n",
              "        vertical-align: middle;\n",
              "    }\n",
              "\n",
              "    .dataframe tbody tr th {\n",
              "        vertical-align: top;\n",
              "    }\n",
              "\n",
              "    .dataframe thead th {\n",
              "        text-align: right;\n",
              "    }\n",
              "</style>\n",
              "<table border=\"1\" class=\"dataframe\">\n",
              "  <thead>\n",
              "    <tr style=\"text-align: right;\">\n",
              "      <th></th>\n",
              "      <th>author</th>\n",
              "      <th>url</th>\n",
              "      <th>doi</th>\n",
              "      <th>issn</th>\n",
              "      <th>year</th>\n",
              "      <th>pages</th>\n",
              "      <th>volume</th>\n",
              "      <th>journal</th>\n",
              "      <th>title</th>\n",
              "      <th>ENTRYTYPE</th>\n",
              "      <th>...</th>\n",
              "      <th>number</th>\n",
              "      <th>Source title</th>\n",
              "      <th>CiteScore</th>\n",
              "      <th>Highest percentile</th>\n",
              "      <th>2020-23 Citations</th>\n",
              "      <th>2020-23 Documents</th>\n",
              "      <th>% Cited</th>\n",
              "      <th>SNIP</th>\n",
              "      <th>SJR</th>\n",
              "      <th>Publisher</th>\n",
              "    </tr>\n",
              "  </thead>\n",
              "  <tbody>\n",
              "    <tr>\n",
              "      <th>333</th>\n",
              "      <td></td>\n",
              "      <td></td>\n",
              "      <td></td>\n",
              "      <td></td>\n",
              "      <td></td>\n",
              "      <td></td>\n",
              "      <td></td>\n",
              "      <td></td>\n",
              "      <td></td>\n",
              "      <td></td>\n",
              "      <td>...</td>\n",
              "      <td></td>\n",
              "      <td>Stadsgeschiedenis</td>\n",
              "      <td>2.643369</td>\n",
              "      <td></td>\n",
              "      <td>729.451613</td>\n",
              "      <td>164.369176</td>\n",
              "      <td>48.508961</td>\n",
              "      <td>0.72597</td>\n",
              "      <td>0.454592</td>\n",
              "      <td>Leuven University Press</td>\n",
              "    </tr>\n",
              "    <tr>\n",
              "      <th>334</th>\n",
              "      <td></td>\n",
              "      <td></td>\n",
              "      <td></td>\n",
              "      <td></td>\n",
              "      <td></td>\n",
              "      <td></td>\n",
              "      <td></td>\n",
              "      <td></td>\n",
              "      <td></td>\n",
              "      <td></td>\n",
              "      <td>...</td>\n",
              "      <td></td>\n",
              "      <td>Town Planning and Architecture</td>\n",
              "      <td>2.643369</td>\n",
              "      <td></td>\n",
              "      <td>729.451613</td>\n",
              "      <td>164.369176</td>\n",
              "      <td>48.508961</td>\n",
              "      <td>0.72597</td>\n",
              "      <td>0.454592</td>\n",
              "      <td>Vilnius Gediminas Technical University</td>\n",
              "    </tr>\n",
              "    <tr>\n",
              "      <th>335</th>\n",
              "      <td></td>\n",
              "      <td></td>\n",
              "      <td></td>\n",
              "      <td></td>\n",
              "      <td></td>\n",
              "      <td></td>\n",
              "      <td></td>\n",
              "      <td></td>\n",
              "      <td></td>\n",
              "      <td></td>\n",
              "      <td>...</td>\n",
              "      <td></td>\n",
              "      <td>Urban Anthropology and Studies of Cultural Sys...</td>\n",
              "      <td>2.643369</td>\n",
              "      <td></td>\n",
              "      <td>729.451613</td>\n",
              "      <td>164.369176</td>\n",
              "      <td>48.508961</td>\n",
              "      <td>0.72597</td>\n",
              "      <td>0.454592</td>\n",
              "      <td>Institute for the Study of Man, Inc.</td>\n",
              "    </tr>\n",
              "    <tr>\n",
              "      <th>336</th>\n",
              "      <td></td>\n",
              "      <td></td>\n",
              "      <td></td>\n",
              "      <td></td>\n",
              "      <td></td>\n",
              "      <td></td>\n",
              "      <td></td>\n",
              "      <td></td>\n",
              "      <td></td>\n",
              "      <td></td>\n",
              "      <td>...</td>\n",
              "      <td></td>\n",
              "      <td>Urban Habitats</td>\n",
              "      <td>2.643369</td>\n",
              "      <td></td>\n",
              "      <td>729.451613</td>\n",
              "      <td>164.369176</td>\n",
              "      <td>48.508961</td>\n",
              "      <td>0.72597</td>\n",
              "      <td>0.454592</td>\n",
              "      <td>Center for Urban Restoration Ecology</td>\n",
              "    </tr>\n",
              "    <tr>\n",
              "      <th>337</th>\n",
              "      <td></td>\n",
              "      <td></td>\n",
              "      <td></td>\n",
              "      <td></td>\n",
              "      <td></td>\n",
              "      <td></td>\n",
              "      <td></td>\n",
              "      <td></td>\n",
              "      <td></td>\n",
              "      <td></td>\n",
              "      <td>...</td>\n",
              "      <td></td>\n",
              "      <td>Urban Lawyer</td>\n",
              "      <td>2.643369</td>\n",
              "      <td></td>\n",
              "      <td>729.451613</td>\n",
              "      <td>164.369176</td>\n",
              "      <td>48.508961</td>\n",
              "      <td>0.72597</td>\n",
              "      <td>0.454592</td>\n",
              "      <td>American Bar Association</td>\n",
              "    </tr>\n",
              "  </tbody>\n",
              "</table>\n",
              "<p>5 rows × 24 columns</p>\n",
              "</div>\n",
              "    <div class=\"colab-df-buttons\">\n",
              "\n",
              "  <div class=\"colab-df-container\">\n",
              "    <button class=\"colab-df-convert\" onclick=\"convertToInteractive('df-9f237942-8977-4476-84bc-ada1e02afe79')\"\n",
              "            title=\"Convert this dataframe to an interactive table.\"\n",
              "            style=\"display:none;\">\n",
              "\n",
              "  <svg xmlns=\"http://www.w3.org/2000/svg\" height=\"24px\" viewBox=\"0 -960 960 960\">\n",
              "    <path d=\"M120-120v-720h720v720H120Zm60-500h600v-160H180v160Zm220 220h160v-160H400v160Zm0 220h160v-160H400v160ZM180-400h160v-160H180v160Zm440 0h160v-160H620v160ZM180-180h160v-160H180v160Zm440 0h160v-160H620v160Z\"/>\n",
              "  </svg>\n",
              "    </button>\n",
              "\n",
              "  <style>\n",
              "    .colab-df-container {\n",
              "      display:flex;\n",
              "      gap: 12px;\n",
              "    }\n",
              "\n",
              "    .colab-df-convert {\n",
              "      background-color: #E8F0FE;\n",
              "      border: none;\n",
              "      border-radius: 50%;\n",
              "      cursor: pointer;\n",
              "      display: none;\n",
              "      fill: #1967D2;\n",
              "      height: 32px;\n",
              "      padding: 0 0 0 0;\n",
              "      width: 32px;\n",
              "    }\n",
              "\n",
              "    .colab-df-convert:hover {\n",
              "      background-color: #E2EBFA;\n",
              "      box-shadow: 0px 1px 2px rgba(60, 64, 67, 0.3), 0px 1px 3px 1px rgba(60, 64, 67, 0.15);\n",
              "      fill: #174EA6;\n",
              "    }\n",
              "\n",
              "    .colab-df-buttons div {\n",
              "      margin-bottom: 4px;\n",
              "    }\n",
              "\n",
              "    [theme=dark] .colab-df-convert {\n",
              "      background-color: #3B4455;\n",
              "      fill: #D2E3FC;\n",
              "    }\n",
              "\n",
              "    [theme=dark] .colab-df-convert:hover {\n",
              "      background-color: #434B5C;\n",
              "      box-shadow: 0px 1px 3px 1px rgba(0, 0, 0, 0.15);\n",
              "      filter: drop-shadow(0px 1px 2px rgba(0, 0, 0, 0.3));\n",
              "      fill: #FFFFFF;\n",
              "    }\n",
              "  </style>\n",
              "\n",
              "    <script>\n",
              "      const buttonEl =\n",
              "        document.querySelector('#df-9f237942-8977-4476-84bc-ada1e02afe79 button.colab-df-convert');\n",
              "      buttonEl.style.display =\n",
              "        google.colab.kernel.accessAllowed ? 'block' : 'none';\n",
              "\n",
              "      async function convertToInteractive(key) {\n",
              "        const element = document.querySelector('#df-9f237942-8977-4476-84bc-ada1e02afe79');\n",
              "        const dataTable =\n",
              "          await google.colab.kernel.invokeFunction('convertToInteractive',\n",
              "                                                    [key], {});\n",
              "        if (!dataTable) return;\n",
              "\n",
              "        const docLinkHtml = 'Like what you see? Visit the ' +\n",
              "          '<a target=\"_blank\" href=https://colab.research.google.com/notebooks/data_table.ipynb>data table notebook</a>'\n",
              "          + ' to learn more about interactive tables.';\n",
              "        element.innerHTML = '';\n",
              "        dataTable['output_type'] = 'display_data';\n",
              "        await google.colab.output.renderOutput(dataTable, element);\n",
              "        const docLink = document.createElement('div');\n",
              "        docLink.innerHTML = docLinkHtml;\n",
              "        element.appendChild(docLink);\n",
              "      }\n",
              "    </script>\n",
              "  </div>\n",
              "\n",
              "\n",
              "<div id=\"df-f392faf7-76fa-4b91-91b6-3dd2da676ac6\">\n",
              "  <button class=\"colab-df-quickchart\" onclick=\"quickchart('df-f392faf7-76fa-4b91-91b6-3dd2da676ac6')\"\n",
              "            title=\"Suggest charts\"\n",
              "            style=\"display:none;\">\n",
              "\n",
              "<svg xmlns=\"http://www.w3.org/2000/svg\" height=\"24px\"viewBox=\"0 0 24 24\"\n",
              "     width=\"24px\">\n",
              "    <g>\n",
              "        <path d=\"M19 3H5c-1.1 0-2 .9-2 2v14c0 1.1.9 2 2 2h14c1.1 0 2-.9 2-2V5c0-1.1-.9-2-2-2zM9 17H7v-7h2v7zm4 0h-2V7h2v10zm4 0h-2v-4h2v4z\"/>\n",
              "    </g>\n",
              "</svg>\n",
              "  </button>\n",
              "\n",
              "<style>\n",
              "  .colab-df-quickchart {\n",
              "      --bg-color: #E8F0FE;\n",
              "      --fill-color: #1967D2;\n",
              "      --hover-bg-color: #E2EBFA;\n",
              "      --hover-fill-color: #174EA6;\n",
              "      --disabled-fill-color: #AAA;\n",
              "      --disabled-bg-color: #DDD;\n",
              "  }\n",
              "\n",
              "  [theme=dark] .colab-df-quickchart {\n",
              "      --bg-color: #3B4455;\n",
              "      --fill-color: #D2E3FC;\n",
              "      --hover-bg-color: #434B5C;\n",
              "      --hover-fill-color: #FFFFFF;\n",
              "      --disabled-bg-color: #3B4455;\n",
              "      --disabled-fill-color: #666;\n",
              "  }\n",
              "\n",
              "  .colab-df-quickchart {\n",
              "    background-color: var(--bg-color);\n",
              "    border: none;\n",
              "    border-radius: 50%;\n",
              "    cursor: pointer;\n",
              "    display: none;\n",
              "    fill: var(--fill-color);\n",
              "    height: 32px;\n",
              "    padding: 0;\n",
              "    width: 32px;\n",
              "  }\n",
              "\n",
              "  .colab-df-quickchart:hover {\n",
              "    background-color: var(--hover-bg-color);\n",
              "    box-shadow: 0 1px 2px rgba(60, 64, 67, 0.3), 0 1px 3px 1px rgba(60, 64, 67, 0.15);\n",
              "    fill: var(--button-hover-fill-color);\n",
              "  }\n",
              "\n",
              "  .colab-df-quickchart-complete:disabled,\n",
              "  .colab-df-quickchart-complete:disabled:hover {\n",
              "    background-color: var(--disabled-bg-color);\n",
              "    fill: var(--disabled-fill-color);\n",
              "    box-shadow: none;\n",
              "  }\n",
              "\n",
              "  .colab-df-spinner {\n",
              "    border: 2px solid var(--fill-color);\n",
              "    border-color: transparent;\n",
              "    border-bottom-color: var(--fill-color);\n",
              "    animation:\n",
              "      spin 1s steps(1) infinite;\n",
              "  }\n",
              "\n",
              "  @keyframes spin {\n",
              "    0% {\n",
              "      border-color: transparent;\n",
              "      border-bottom-color: var(--fill-color);\n",
              "      border-left-color: var(--fill-color);\n",
              "    }\n",
              "    20% {\n",
              "      border-color: transparent;\n",
              "      border-left-color: var(--fill-color);\n",
              "      border-top-color: var(--fill-color);\n",
              "    }\n",
              "    30% {\n",
              "      border-color: transparent;\n",
              "      border-left-color: var(--fill-color);\n",
              "      border-top-color: var(--fill-color);\n",
              "      border-right-color: var(--fill-color);\n",
              "    }\n",
              "    40% {\n",
              "      border-color: transparent;\n",
              "      border-right-color: var(--fill-color);\n",
              "      border-top-color: var(--fill-color);\n",
              "    }\n",
              "    60% {\n",
              "      border-color: transparent;\n",
              "      border-right-color: var(--fill-color);\n",
              "    }\n",
              "    80% {\n",
              "      border-color: transparent;\n",
              "      border-right-color: var(--fill-color);\n",
              "      border-bottom-color: var(--fill-color);\n",
              "    }\n",
              "    90% {\n",
              "      border-color: transparent;\n",
              "      border-bottom-color: var(--fill-color);\n",
              "    }\n",
              "  }\n",
              "</style>\n",
              "\n",
              "  <script>\n",
              "    async function quickchart(key) {\n",
              "      const quickchartButtonEl =\n",
              "        document.querySelector('#' + key + ' button');\n",
              "      quickchartButtonEl.disabled = true;  // To prevent multiple clicks.\n",
              "      quickchartButtonEl.classList.add('colab-df-spinner');\n",
              "      try {\n",
              "        const charts = await google.colab.kernel.invokeFunction(\n",
              "            'suggestCharts', [key], {});\n",
              "      } catch (error) {\n",
              "        console.error('Error during call to suggestCharts:', error);\n",
              "      }\n",
              "      quickchartButtonEl.classList.remove('colab-df-spinner');\n",
              "      quickchartButtonEl.classList.add('colab-df-quickchart-complete');\n",
              "    }\n",
              "    (() => {\n",
              "      let quickchartButtonEl =\n",
              "        document.querySelector('#df-f392faf7-76fa-4b91-91b6-3dd2da676ac6 button');\n",
              "      quickchartButtonEl.style.display =\n",
              "        google.colab.kernel.accessAllowed ? 'block' : 'none';\n",
              "    })();\n",
              "  </script>\n",
              "</div>\n",
              "\n",
              "    </div>\n",
              "  </div>\n"
            ],
            "application/vnd.google.colaboratory.intrinsic+json": {
              "type": "dataframe"
            }
          },
          "metadata": {},
          "execution_count": 104
        }
      ]
    },
    {
      "cell_type": "markdown",
      "source": [
        "**Analisis exploratorio después de la limpieza de datos**"
      ],
      "metadata": {
        "id": "TZaKzcU99K5m"
      }
    },
    {
      "cell_type": "code",
      "source": [
        "# Información general del DataFrame\n",
        "print(result_clean.info())\n"
      ],
      "metadata": {
        "colab": {
          "base_uri": "https://localhost:8080/"
        },
        "id": "AqkdgT8Z9ACg",
        "outputId": "d9d23c43-67eb-4fde-9f1d-a20f6ee08616"
      },
      "execution_count": null,
      "outputs": [
        {
          "output_type": "stream",
          "name": "stdout",
          "text": [
            "<class 'pandas.core.frame.DataFrame'>\n",
            "RangeIndex: 338 entries, 0 to 337\n",
            "Data columns (total 24 columns):\n",
            " #   Column              Non-Null Count  Dtype  \n",
            "---  ------              --------------  -----  \n",
            " 0   author              338 non-null    object \n",
            " 1   url                 338 non-null    object \n",
            " 2   doi                 338 non-null    object \n",
            " 3   issn                338 non-null    object \n",
            " 4   year                338 non-null    object \n",
            " 5   pages               338 non-null    object \n",
            " 6   volume              338 non-null    object \n",
            " 7   journal             338 non-null    object \n",
            " 8   title               338 non-null    object \n",
            " 9   ENTRYTYPE           338 non-null    object \n",
            " 10  ID                  338 non-null    object \n",
            " 11  abstract            338 non-null    object \n",
            " 12  keywords            338 non-null    object \n",
            " 13  note                338 non-null    object \n",
            " 14  number              338 non-null    object \n",
            " 15  Source title        338 non-null    object \n",
            " 16  CiteScore           338 non-null    float64\n",
            " 17  Highest percentile  338 non-null    object \n",
            " 18  2020-23 Citations   338 non-null    float64\n",
            " 19  2020-23 Documents   338 non-null    float64\n",
            " 20  % Cited             338 non-null    float64\n",
            " 21  SNIP                338 non-null    float64\n",
            " 22  SJR                 338 non-null    float64\n",
            " 23  Publisher           338 non-null    object \n",
            "dtypes: float64(6), object(18)\n",
            "memory usage: 63.5+ KB\n",
            "None\n"
          ]
        }
      ]
    },
    {
      "cell_type": "code",
      "source": [
        "# Estadísticas descriptivas para columnas numéricas\n",
        "print(result_clean.describe())\n"
      ],
      "metadata": {
        "colab": {
          "base_uri": "https://localhost:8080/"
        },
        "id": "qHRcSgL99R-r",
        "outputId": "416ea604-27e9-4216-91f2-4a154e300fd2"
      },
      "execution_count": null,
      "outputs": [
        {
          "output_type": "stream",
          "name": "stdout",
          "text": [
            "        CiteScore  2020-23 Citations  2020-23 Documents     % Cited  \\\n",
            "count  338.000000         338.000000         338.000000  338.000000   \n",
            "mean     2.643369         729.451613         164.369176   48.508961   \n",
            "std      3.350170        2073.097354         182.967113   23.071539   \n",
            "min      0.000000           0.000000           5.000000    0.000000   \n",
            "25%      0.700000          54.000000          76.250000   32.000000   \n",
            "50%      2.150000         236.000000         122.000000   48.508961   \n",
            "75%      2.975000         729.451613         164.369176   69.750000   \n",
            "max     41.900000       23104.000000        1783.000000  100.000000   \n",
            "\n",
            "             SNIP         SJR  \n",
            "count  338.000000  338.000000  \n",
            "mean     0.725970    0.454592  \n",
            "std      0.551924    0.559391  \n",
            "min      0.000000    0.100000  \n",
            "25%      0.344250    0.164250  \n",
            "50%      0.724985    0.380500  \n",
            "75%      0.858750    0.454592  \n",
            "max      5.329000    7.366000  \n"
          ]
        }
      ]
    },
    {
      "cell_type": "code",
      "source": [
        "# Distribución de valores únicos en una columna categórica\n",
        "print(result_clean['journal'].value_counts())\n"
      ],
      "metadata": {
        "colab": {
          "base_uri": "https://localhost:8080/"
        },
        "id": "0eXxKZGN9UVr",
        "outputId": "684b7b5a-d99d-460e-b5bb-471ac1ed93c8"
      },
      "execution_count": null,
      "outputs": [
        {
          "output_type": "stream",
          "name": "stdout",
          "text": [
            "journal\n",
            "                                                         313\n",
            "Geoforum                                                   8\n",
            "World Development                                          4\n",
            "City, Culture and Society                                  4\n",
            "Ecological Economics                                       3\n",
            "Journal of Asian Economics                                 2\n",
            "Food Policy                                                2\n",
            "Physica A: Statistical Mechanics and its Applications      1\n",
            "Socio-Economic Planning Sciences                           1\n",
            "Name: count, dtype: int64\n"
          ]
        }
      ]
    },
    {
      "cell_type": "markdown",
      "source": [
        "Histogramas para columnas numéricas"
      ],
      "metadata": {
        "id": "da2yS3SX9gqP"
      }
    },
    {
      "cell_type": "code",
      "source": [
        "import seaborn as sns\n",
        "import matplotlib.pyplot as plt\n",
        "\n",
        "# Histograma para 'CiteScore'\n",
        "sns.histplot(result_clean['CiteScore'])\n",
        "plt.title('Distribución de CiteScore')\n",
        "plt.show()\n"
      ],
      "metadata": {
        "colab": {
          "base_uri": "https://localhost:8080/",
          "height": 472
        },
        "id": "7tqlnd239WKZ",
        "outputId": "dfad0415-30cf-4e16-911a-94c626b6e1df"
      },
      "execution_count": null,
      "outputs": [
        {
          "output_type": "display_data",
          "data": {
            "text/plain": [
              "<Figure size 640x480 with 1 Axes>"
            ],
            "image/png": "[encoded data removed]"
          },
          "metadata": {}
        }
      ]
    },
    {
      "cell_type": "markdown",
      "source": [
        "Gráficos de Caja para identificar valores atípicos:"
      ],
      "metadata": {
        "id": "7elfeFFI9h3v"
      }
    },
    {
      "cell_type": "code",
      "source": [
        "# Gráfico de caja para 'CiteScore'\n",
        "sns.boxplot(x=result_clean['CiteScore'])\n",
        "plt.title('Gráfico de Caja de CiteScore')\n",
        "plt.show()\n"
      ],
      "metadata": {
        "colab": {
          "base_uri": "https://localhost:8080/",
          "height": 472
        },
        "id": "hyGnF-LZ9YMo",
        "outputId": "e89b0930-e2d9-4547-c5f9-83f291334682"
      },
      "execution_count": null,
      "outputs": [
        {
          "output_type": "display_data",
          "data": {
            "text/plain": [
              "<Figure size 640x480 with 1 Axes>"
            ],
            "image/png": "[encoded data removed]"
          },
          "metadata": {}
        }
      ]
    },
    {
      "cell_type": "markdown",
      "source": [
        "Gráfico de Dispersión para explorar relaciones entre dos variables numéricas:"
      ],
      "metadata": {
        "id": "bubPCBgx9k-D"
      }
    },
    {
      "cell_type": "code",
      "source": [
        "# Gráfico de dispersión entre '2020-23 Citations' y 'CiteScore'\n",
        "sns.scatterplot(x='2020-23 Citations', y='CiteScore', data=result_clean)\n",
        "plt.title('Dispersión entre Citations y CiteScore')\n",
        "plt.show()\n"
      ],
      "metadata": {
        "colab": {
          "base_uri": "https://localhost:8080/",
          "height": 472
        },
        "id": "Q6atDRe59lQi",
        "outputId": "8ab1bf28-abbc-4db1-842c-ea50570d4f9e"
      },
      "execution_count": null,
      "outputs": [
        {
          "output_type": "display_data",
          "data": {
            "text/plain": [
              "<Figure size 640x480 with 1 Axes>"
            ],
            "image/png": "[encoded data removed]"
          },
          "metadata": {}
        }
      ]
    },
    {
      "cell_type": "markdown",
      "source": [
        " valores en columnas categóricas:"
      ],
      "metadata": {
        "id": "ApQ6cqR09pqq"
      }
    },
    {
      "cell_type": "code",
      "source": [
        "# Gráfico de barras para 'journal'\n",
        "sns.countplot(y='journal', data=result_clean)\n",
        "plt.title('Conteo por Journal')\n",
        "plt.show()\n"
      ],
      "metadata": {
        "colab": {
          "base_uri": "https://localhost:8080/",
          "height": 472
        },
        "id": "lDMB6b2x9qAa",
        "outputId": "b1250d71-ad82-4dce-c617-6ec3b7533b52"
      },
      "execution_count": null,
      "outputs": [
        {
          "output_type": "display_data",
          "data": {
            "text/plain": [
              "<Figure size 640x480 with 1 Axes>"
            ],
            "image/png": "[encoded data removed]"
          },
          "metadata": {}
        }
      ]
    },
    {
      "cell_type": "markdown",
      "source": [
        "#**Estandarizar y/o Normalizar**"
      ],
      "metadata": {
        "id": "uYo8AX5K99cS"
      }
    },
    {
      "cell_type": "markdown",
      "source": [
        "La estandarización transforma los datos para que tengan una media de 0 y una desviación estándar de 1."
      ],
      "metadata": {
        "id": "x7oxCEST-KUK"
      }
    },
    {
      "cell_type": "code",
      "source": [
        "from sklearn.preprocessing import StandardScaler\n",
        "\n",
        "# Seleccionar columnas numéricas para estandarizar\n",
        "num_columns = ['CiteScore', '2020-23 Citations', '2020-23 Documents', '% Cited', 'SNIP', 'SJR']\n",
        "\n",
        "# Crear un objeto StandardScaler\n",
        "scaler = StandardScaler()\n",
        "\n",
        "# Ajustar y transformar las columnas numéricas\n",
        "result_clean[num_columns] = scaler.fit_transform(result_clean[num_columns])\n",
        "\n",
        "print(result_clean[num_columns].head())\n"
      ],
      "metadata": {
        "colab": {
          "base_uri": "https://localhost:8080/"
        },
        "id": "rtFe1URe9vvC",
        "outputId": "fac35239-29c5-486b-e9aa-c890a712c56d"
      },
      "execution_count": null,
      "outputs": [
        {
          "output_type": "stream",
          "name": "stdout",
          "text": [
            "      CiteScore  2020-23 Citations  2020-23 Documents  % Cited  SNIP  SJR\n",
            "0 -1.327538e-16      -5.492042e-17                0.0      0.0   0.0  0.0\n",
            "1 -1.327538e-16      -5.492042e-17                0.0      0.0   0.0  0.0\n",
            "2 -1.327538e-16      -5.492042e-17                0.0      0.0   0.0  0.0\n",
            "3 -1.327538e-16      -5.492042e-17                0.0      0.0   0.0  0.0\n",
            "4 -1.327538e-16      -5.492042e-17                0.0      0.0   0.0  0.0\n"
          ]
        }
      ]
    },
    {
      "cell_type": "markdown",
      "source": [
        "La normalización ajusta los datos para que estén en un rango específico, típicamente [0, 1]. Se usa cuando se requiere una escala fija, como en redes neuronales."
      ],
      "metadata": {
        "id": "ulh-Adg7-LZJ"
      }
    },
    {
      "cell_type": "code",
      "source": [
        "from sklearn.preprocessing import MinMaxScaler\n",
        "\n",
        "# Crear un objeto MinMaxScaler\n",
        "scaler = MinMaxScaler()\n",
        "\n",
        "# Ajustar y transformar las columnas numéricas\n",
        "result_clean[num_columns] = scaler.fit_transform(result_clean[num_columns])\n",
        "\n",
        "print(result_clean[num_columns].head())\n"
      ],
      "metadata": {
        "colab": {
          "base_uri": "https://localhost:8080/"
        },
        "id": "24plgAlX-Dqi",
        "outputId": "18425741-4113-4eeb-e067-de3344c86f77"
      },
      "execution_count": null,
      "outputs": [
        {
          "output_type": "stream",
          "name": "stdout",
          "text": [
            "   CiteScore  2020-23 Citations  2020-23 Documents  % Cited     SNIP       SJR\n",
            "0   0.063088           0.031573           0.089634  0.48509  0.13623  0.048802\n",
            "1   0.063088           0.031573           0.089634  0.48509  0.13623  0.048802\n",
            "2   0.063088           0.031573           0.089634  0.48509  0.13623  0.048802\n",
            "3   0.063088           0.031573           0.089634  0.48509  0.13623  0.048802\n",
            "4   0.063088           0.031573           0.089634  0.48509  0.13623  0.048802\n"
          ]
        }
      ]
    },
    {
      "cell_type": "markdown",
      "source": [
        "#**Proponer un modelo**"
      ],
      "metadata": {
        "id": "VoTmzHTH-R2z"
      }
    },
    {
      "cell_type": "markdown",
      "source": [
        "Regresión\n",
        "Se predice una variable numérica (e.g., CiteScore), se usa modelos de regresión:"
      ],
      "metadata": {
        "id": "2Pnt6D4p-Y_a"
      }
    },
    {
      "cell_type": "code",
      "source": [
        "from sklearn.model_selection import train_test_split\n",
        "from sklearn.linear_model import LinearRegression\n",
        "from sklearn.metrics import mean_squared_error\n",
        "\n",
        "# Supongamos que 'CiteScore' es la variable objetivo y el resto son características\n",
        "X = result_clean.drop('CiteScore', axis=1)  # Características\n",
        "y = result_clean['CiteScore']  # Variable objetivo\n",
        "\n",
        "# Convertir variables categóricas a variables dummy (one-hot encoding)\n",
        "X = pd.get_dummies(X)\n",
        "\n",
        "# Dividir los datos en conjuntos de entrenamiento y prueba\n",
        "X_train, X_test, y_train, y_test = train_test_split(X, y, test_size=0.2, random_state=42)\n",
        "\n",
        "# Crear y entrenar el modelo\n",
        "model = LinearRegression()\n",
        "model.fit(X_train, y_train)\n",
        "\n",
        "# Hacer predicciones\n",
        "y_pred = model.predict(X_test)\n",
        "\n",
        "# Evaluar el modelo\n",
        "mse = mean_squared_error(y_test, y_pred)\n",
        "print(f'Error Cuadrático Medio: {mse}')\n"
      ],
      "metadata": {
        "colab": {
          "base_uri": "https://localhost:8080/"
        },
        "id": "8BLX2loF-Oop",
        "outputId": "94512df9-80ee-4329-d7a5-fccfb432903e"
      },
      "execution_count": null,
      "outputs": [
        {
          "output_type": "stream",
          "name": "stdout",
          "text": [
            "Error Cuadrático Medio: 0.006344368057003251\n"
          ]
        }
      ]
    },
    {
      "cell_type": "markdown",
      "source": [
        "Clasificación\n",
        "Se esta clasificando datos en categorías (e.g., predicción de categorías de publicaciones), se usa modelos de clasificación:"
      ],
      "metadata": {
        "id": "jdwdBFSL-njx"
      }
    },
    {
      "cell_type": "code",
      "source": [
        "from sklearn.model_selection import train_test_split\n",
        "from sklearn.ensemble import RandomForestClassifier\n",
        "from sklearn.metrics import accuracy_score\n",
        "\n",
        "# Supongamos que 'journal' es la variable objetivo (categorías de publicaciones)\n",
        "X = result_clean.drop('journal', axis=1)  # Características\n",
        "y = result_clean['journal']  # Variable objetivo\n",
        "\n",
        "# Convertir variables categóricas a variables dummy (one-hot encoding)\n",
        "X = pd.get_dummies(X)\n",
        "\n",
        "# Dividir los datos en conjuntos de entrenamiento y prueba\n",
        "X_train, X_test, y_train, y_test = train_test_split(X, y, test_size=0.2, random_state=42)\n",
        "\n",
        "# Crear y entrenar el modelo\n",
        "model = RandomForestClassifier(n_estimators=100, random_state=42)\n",
        "model.fit(X_train, y_train)\n",
        "\n",
        "# Hacer predicciones\n",
        "y_pred = model.predict(X_test)\n",
        "\n",
        "# Evaluar el modelo\n",
        "accuracy = accuracy_score(y_test, y_pred)\n",
        "print(f'Precisión del modelo: {accuracy}')\n"
      ],
      "metadata": {
        "colab": {
          "base_uri": "https://localhost:8080/"
        },
        "id": "rAE_VkJP-i9J",
        "outputId": "f48588ea-67c4-4006-88e2-920392631ac0"
      },
      "execution_count": null,
      "outputs": [
        {
          "output_type": "stream",
          "name": "stdout",
          "text": [
            "Precisión del modelo: 0.9558823529411765\n"
          ]
        }
      ]
    }
  ]
}